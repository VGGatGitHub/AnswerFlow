{
  "nbformat": 4,
  "nbformat_minor": 0,
  "metadata": {
    "kernelspec": {
      "language": "python",
      "display_name": "Python 3",
      "name": "python3"
    },
    "language_info": {
      "pygments_lexer": "ipython3",
      "nbconvert_exporter": "python",
      "version": "3.6.4",
      "file_extension": ".py",
      "codemirror_mode": {
        "name": "ipython",
        "version": 3
      },
      "name": "python",
      "mimetype": "text/x-python"
    },
    "colab": {
      "name": "jsonl2json.ipynb",
      "provenance": [],
      "collapsed_sections": [],
      "include_colab_link": true
    }
  },
  "cells": [
    {
      "cell_type": "markdown",
      "metadata": {
        "id": "view-in-github",
        "colab_type": "text"
      },
      "source": [
        "<a href=\"https://colab.research.google.com/github/VGGatGitHub/AnswerFlow/blob/master/jsonl2json.ipynb\" target=\"_parent\"><img src=\"https://colab.research.google.com/assets/colab-badge.svg\" alt=\"Open In Colab\"/></a>"
      ]
    },
    {
      "cell_type": "markdown",
      "metadata": {
        "id": "YOhb0MNUbqyS",
        "colab_type": "text"
      },
      "source": [
        "The code transfroms jsonl to json and helps look at the training data set ...\n",
        "for the 200nq data there are three problematic long answers related to the follwing two html tags: \\<Ul\\> \\<Li\\>"
      ]
    },
    {
      "cell_type": "code",
      "metadata": {
        "id": "PQz23QE_SPBo",
        "colab_type": "code",
        "outputId": "540f4949-b180-4f20-ddb0-a66cd276863e",
        "colab": {
          "base_uri": "https://localhost:8080/",
          "height": 34
        }
      },
      "source": [
        "from google.colab import drive\n",
        "drive.mount('/content/drive')"
      ],
      "execution_count": 3,
      "outputs": [
        {
          "output_type": "stream",
          "text": [
            "Drive already mounted at /content/drive; to attempt to forcibly remount, call drive.mount(\"/content/drive\", force_remount=True).\n"
          ],
          "name": "stdout"
        }
      ]
    },
    {
      "cell_type": "code",
      "metadata": {
        "trusted": true,
        "id": "j1COTYm7R-aV",
        "colab_type": "code",
        "outputId": "51d08908-ff4f-4122-b59c-2a5b60375f2a",
        "colab": {
          "base_uri": "https://localhost:8080/",
          "height": 34
        }
      },
      "source": [
        "import os\n",
        "import sys\n",
        "print(os.getcwd())"
      ],
      "execution_count": 10,
      "outputs": [
        {
          "output_type": "stream",
          "text": [
            "/content\n"
          ],
          "name": "stdout"
        }
      ]
    },
    {
      "cell_type": "code",
      "metadata": {
        "id": "nT38LKuoTMzw",
        "colab_type": "code",
        "colab": {}
      },
      "source": [
        "#VGG define the foldre to inspect for files \n",
        "path='/content/drive/My Drive/Colab Notebooks/'"
      ],
      "execution_count": 0,
      "outputs": []
    },
    {
      "cell_type": "code",
      "metadata": {
        "trusted": true,
        "id": "TxEobbLTR-ac",
        "colab_type": "code",
        "colab": {}
      },
      "source": [
        "#make sure the file you need is in the correct directory \n",
        "\n",
        "for dirname, _, filenames in os.walk(path):\n",
        "    for filename in filenames:\n",
        "        print(os.path.join(dirname, filename))"
      ],
      "execution_count": 0,
      "outputs": []
    },
    {
      "cell_type": "code",
      "metadata": {
        "id": "Nz3ja0GpTsaI",
        "colab_type": "code",
        "colab": {}
      },
      "source": [
        "#VGG import the jsonl file to convert into json and wtite it out\n",
        "io_filename='simplified-nq-train' \n",
        "\n",
        "#will append jsonl and json as extentions later\n",
        "input_file=path+io_filename+'.jsonl'\n",
        "\n",
        "#saving the file in the working directory \n",
        "out_file=path+'train200.json' \n"
      ],
      "execution_count": 0,
      "outputs": []
    },
    {
      "cell_type": "code",
      "metadata": {
        "id": "YQPINH94B1YR",
        "colab_type": "code",
        "colab": {}
      },
      "source": [
        "# VGG \n",
        "# Original repository https://github.com/google-research-datasets/natural-questions\n",
        "# you could also get the file text_utils.py from https://github.com/VGGatGitHub/natural-questions\n",
        "#\n",
        "\n",
        "sys.path.append(os.path.abspath(path))\n",
        "from text_utils import *"
      ],
      "execution_count": 0,
      "outputs": []
    },
    {
      "cell_type": "code",
      "metadata": {
        "_uuid": "8f2839f25d086af736a60e9eeb907d3b93b6e0e5",
        "_cell_guid": "b1076dfc-b9ad-4769-8c92-a6c4dae69d19",
        "trusted": true,
        "id": "TLIYMpdTR-ae",
        "colab_type": "code",
        "colab": {}
      },
      "source": [
        "import json\n",
        "import pandas as pd\n",
        "import gc\n",
        "import sys\n",
        "import numpy as np\n",
        "\n",
        "class NpEncoder(json.JSONEncoder):\n",
        "    def default(self, obj):\n",
        "        if isinstance(obj, np.integer):\n",
        "            return int(obj)\n",
        "        elif isinstance(obj, np.floating):\n",
        "            return float(obj)\n",
        "        elif isinstance(obj, np.ndarray):\n",
        "            return obj.tolist()\n",
        "        else:\n",
        "            return super(NpEncoder, self).default(obj)\n",
        "\n",
        "def read_data(path, sample = True, chunksize = 30000):\n",
        "    if sample == True:\n",
        "        df = []\n",
        "        with open(path, 'rt') as reader:\n",
        "            for i in range(chunksize):\n",
        "                try:\n",
        "                    line = reader.readline()\n",
        "                    if not line.strip():\n",
        "                        continue\n",
        "                    df.append(json.loads(line))\n",
        "                except:\n",
        "                    print(line)\n",
        "                    print(sys.exc_info())\n",
        "\n",
        "        df = pd.DataFrame(df)\n",
        "        print('Our sampled dataset have {} rows and {} columns'.format(df.shape[0], df.shape[1]))\n",
        "    else:\n",
        "        df = pd.read_json(path, orient = 'records', lines = True)\n",
        "        print('Our dataset have {} rows and {} columns'.format(df.shape[0], df.shape[1]))\n",
        "        gc.collect()\n",
        "    return df\n",
        "\n",
        "\n"
      ],
      "execution_count": 0,
      "outputs": []
    },
    {
      "cell_type": "code",
      "metadata": {
        "id": "tgULiqgRStB-",
        "colab_type": "code",
        "outputId": "6540696d-b281-4a5e-b133-357dcd111a2c",
        "colab": {
          "base_uri": "https://localhost:8080/",
          "height": 34
        }
      },
      "source": [
        "#create and save the json file\n",
        "\n",
        "train = read_data(input_file)\n",
        "\n",
        "small_train = []\n",
        "for i in range(200): #200 VGG change the nuber of data sets\n",
        "    row_dict = train.loc[i].to_dict()\n",
        "    doc = simplify_nq_example(row_dict) #VGG for simple json formated file\n",
        "    small_train.append(doc)\n",
        "\n",
        "with open(out_file, \"w\") as outfile:\n",
        "    json.dump(small_train, outfile, indent=2, cls=NpEncoder)\n"
      ],
      "execution_count": 14,
      "outputs": [
        {
          "output_type": "stream",
          "text": [
            "Our sampled dataset have 200 rows and 9 columns\n"
          ],
          "name": "stdout"
        }
      ]
    },
    {
      "cell_type": "code",
      "metadata": {
        "_uuid": "d629ff2d2480ee46fbb7e2d37f6b5fab8052498a",
        "_cell_guid": "79c7e3d0-c299-4dcb-8224-4455121ee9b0",
        "trusted": true,
        "id": "o4PsIvExR-ag",
        "colab_type": "code",
        "outputId": "a40ffc11-da09-47cf-8a70-030e7bc59dc3",
        "colab": {
          "base_uri": "https://localhost:8080/",
          "height": 479
        }
      },
      "source": [
        "train.head()"
      ],
      "execution_count": 15,
      "outputs": [
        {
          "output_type": "execute_result",
          "data": {
            "text/html": [
              "<div>\n",
              "<style scoped>\n",
              "    .dataframe tbody tr th:only-of-type {\n",
              "        vertical-align: middle;\n",
              "    }\n",
              "\n",
              "    .dataframe tbody tr th {\n",
              "        vertical-align: top;\n",
              "    }\n",
              "\n",
              "    .dataframe thead th {\n",
              "        text-align: right;\n",
              "    }\n",
              "</style>\n",
              "<table border=\"1\" class=\"dataframe\">\n",
              "  <thead>\n",
              "    <tr style=\"text-align: right;\">\n",
              "      <th></th>\n",
              "      <th>annotations</th>\n",
              "      <th>document_html</th>\n",
              "      <th>document_title</th>\n",
              "      <th>document_tokens</th>\n",
              "      <th>document_url</th>\n",
              "      <th>example_id</th>\n",
              "      <th>long_answer_candidates</th>\n",
              "      <th>question_text</th>\n",
              "      <th>question_tokens</th>\n",
              "    </tr>\n",
              "  </thead>\n",
              "  <tbody>\n",
              "    <tr>\n",
              "      <th>0</th>\n",
              "      <td>[{'annotation_id': 6782080525527814293, 'long_...</td>\n",
              "      <td>&lt;!DOCTYPE html&gt;\\n&lt;HTML class=\"client-js ve-not...</td>\n",
              "      <td>The Walking Dead (season 8)</td>\n",
              "      <td>[{'end_byte': 95, 'html_token': False, 'start_...</td>\n",
              "      <td>https://en.wikipedia.org//w/index.php?title=Th...</td>\n",
              "      <td>4549465242785278785</td>\n",
              "      <td>[{'end_token': 216, 'start_token': 24, 'top_le...</td>\n",
              "      <td>when is the last episode of season 8 of the wa...</td>\n",
              "      <td>[when, is, the, last, episode, of, season, 8, ...</td>\n",
              "    </tr>\n",
              "    <tr>\n",
              "      <th>1</th>\n",
              "      <td>[{'annotation_id': 7719528322202775345, 'long_...</td>\n",
              "      <td>&lt;!DOCTYPE html&gt;\\n&lt;HTML class=\"client-js ve-not...</td>\n",
              "      <td>Persephone</td>\n",
              "      <td>[{'end_byte': 102, 'html_token': False, 'start...</td>\n",
              "      <td>https://en.wikipedia.org//w/index.php?title=Pe...</td>\n",
              "      <td>-2543388002166163252</td>\n",
              "      <td>[{'end_token': 217, 'start_token': 24, 'top_le...</td>\n",
              "      <td>in greek mythology who was the goddess of spri...</td>\n",
              "      <td>[in, greek, mythology, who, was, the, goddess,...</td>\n",
              "    </tr>\n",
              "    <tr>\n",
              "      <th>2</th>\n",
              "      <td>[{'annotation_id': 13676402902866580638, 'long...</td>\n",
              "      <td>&lt;!DOCTYPE html&gt;\\n&lt;HTML class=\"client-js ve-not...</td>\n",
              "      <td>Colony (biology)</td>\n",
              "      <td>[{'end_byte': 98, 'html_token': False, 'start_...</td>\n",
              "      <td>https://en.wikipedia.org//w/index.php?title=Co...</td>\n",
              "      <td>5985355041383167183</td>\n",
              "      <td>[{'end_token': 126, 'start_token': 18, 'top_le...</td>\n",
              "      <td>benefits of colonial life for single celled or...</td>\n",
              "      <td>[benefits, of, colonial, life, for, single, ce...</td>\n",
              "    </tr>\n",
              "    <tr>\n",
              "      <th>3</th>\n",
              "      <td>[{'annotation_id': 7446307064203576492, 'long_...</td>\n",
              "      <td>&lt;!DOCTYPE html&gt;\\n&lt;HTML class=\"client-js ve-not...</td>\n",
              "      <td>The Man in the High Castle (TV series)</td>\n",
              "      <td>[{'end_byte': 95, 'html_token': False, 'start_...</td>\n",
              "      <td>https://en.wikipedia.org//w/index.php?title=Th...</td>\n",
              "      <td>-2975172535563055798</td>\n",
              "      <td>[{'end_token': 473, 'start_token': 30, 'top_le...</td>\n",
              "      <td>how many season of the man in the high castle</td>\n",
              "      <td>[how, many, season, of, the, man, in, the, hig...</td>\n",
              "    </tr>\n",
              "    <tr>\n",
              "      <th>4</th>\n",
              "      <td>[{'annotation_id': 3569531263672159632, 'long_...</td>\n",
              "      <td>&lt;!DOCTYPE html&gt;\\n&lt;HTML class=\"client-js ve-not...</td>\n",
              "      <td>List of heads of state of Nigeria</td>\n",
              "      <td>[{'end_byte': 96, 'html_token': False, 'start_...</td>\n",
              "      <td>https://en.wikipedia.org//w/index.php?title=Li...</td>\n",
              "      <td>-1052334833502528495</td>\n",
              "      <td>[{'end_token': 203, 'start_token': 24, 'top_le...</td>\n",
              "      <td>who was the first ministry head of state in ni...</td>\n",
              "      <td>[who, was, the, first, ministry, head, of, sta...</td>\n",
              "    </tr>\n",
              "  </tbody>\n",
              "</table>\n",
              "</div>"
            ],
            "text/plain": [
              "                                         annotations  ...                                    question_tokens\n",
              "0  [{'annotation_id': 6782080525527814293, 'long_...  ...  [when, is, the, last, episode, of, season, 8, ...\n",
              "1  [{'annotation_id': 7719528322202775345, 'long_...  ...  [in, greek, mythology, who, was, the, goddess,...\n",
              "2  [{'annotation_id': 13676402902866580638, 'long...  ...  [benefits, of, colonial, life, for, single, ce...\n",
              "3  [{'annotation_id': 7446307064203576492, 'long_...  ...  [how, many, season, of, the, man, in, the, hig...\n",
              "4  [{'annotation_id': 3569531263672159632, 'long_...  ...  [who, was, the, first, ministry, head, of, sta...\n",
              "\n",
              "[5 rows x 9 columns]"
            ]
          },
          "metadata": {
            "tags": []
          },
          "execution_count": 15
        }
      ]
    },
    {
      "cell_type": "code",
      "metadata": {
        "id": "8rbxf8OPDdom",
        "colab_type": "code",
        "colab": {}
      },
      "source": [
        "train.loc[1].to_dict()"
      ],
      "execution_count": 0,
      "outputs": []
    },
    {
      "cell_type": "code",
      "metadata": {
        "id": "1RFJ7PBeLt89",
        "colab_type": "code",
        "colab": {}
      },
      "source": [
        "simplify_nq_example(train.loc[1].to_dict())"
      ],
      "execution_count": 0,
      "outputs": []
    },
    {
      "cell_type": "code",
      "metadata": {
        "id": "CbOymI35FkM5",
        "colab_type": "code",
        "colab": {}
      },
      "source": [
        "small_train[1]"
      ],
      "execution_count": 0,
      "outputs": []
    },
    {
      "cell_type": "code",
      "metadata": {
        "id": "Q0HC9jy1ogwd",
        "colab_type": "code",
        "outputId": "03741c71-0696-4c19-ef87-fd8c31ea4b91",
        "colab": {
          "base_uri": "https://localhost:8080/",
          "height": 1000
        }
      },
      "source": [
        "# Explore the structure of the json file \n",
        "UNKNOWN = \"<UNKNOWN>\"\n",
        "\n",
        "with open(out_file) as json_file: #VGG\n",
        "        data = json.load(json_file)\n",
        "        n_long=0 #VGG\n",
        "        n_short=0 \n",
        "        doc_n=0\n",
        "        n_surprises=0\n",
        "\n",
        "        for nq_doc in data:\n",
        "            doc_n+=1\n",
        "            doc = nq_doc #VGG simplify_nq_example(nq_doc)\n",
        "            #VGG document_title = nq_doc['document_title']\n",
        "            document_title = doc['document_text'].split('H1>')[1][:-2]\n",
        "\n",
        "            question_text = doc['question_text']\n",
        "            annotations = doc['annotations'][0]          \n",
        "            document_text = doc['document_text'].split()\n",
        "\n",
        "            long_answer_candidates = doc['long_answer_candidates']\n",
        "            \n",
        "            print(\"\\n\")\n",
        "            print(doc_n,\"Document Title: \",document_title)\n",
        "            print(\"Question: \",question_text)\n",
        "\n",
        "            if len(annotations['short_answers']) > 0:\n",
        "                start_token = annotations['short_answers'][0]['start_token']\n",
        "                end_token = annotations['short_answers'][0]['end_token']\n",
        "                short_answer = \" \".join(document_text[start_token:end_token])\n",
        "                print(\"Short Answer: \", short_answer)\n",
        "                n_short+=1 #VGG\n",
        "            else:\n",
        "                short_answer = UNKNOWN\n",
        "\n",
        "            long_answer = \" \".join(\n",
        "                document_text[annotations['long_answer']['start_token']:\n",
        "                              annotations['long_answer']['end_token']])\n",
        "            problem = True\n",
        "            if annotations['long_answer']['start_token'] == annotations['long_answer']['end_token']: \n",
        "              print(\"Problem: no long answer present!\")\n",
        "            else:\n",
        "              n_long+=1\n",
        "              n_posibilities=0\n",
        "              for posibilities in long_answer_candidates:\n",
        "                  if posibilities[\"top_level\"]:\n",
        "                      n_posibilities+=1\n",
        "                      start_token = posibilities['start_token']\n",
        "                      end_token = posibilities['end_token']\n",
        "                      posibility = \" \".join(document_text[start_token:end_token])\n",
        "                      if posibility == long_answer: \n",
        "                        problem = False\n",
        "                        print(\"the long answer was found to be possibility: \",n_posibilities)\n",
        "                  else:\n",
        "                      pass \n",
        "             \n",
        "            #VGG V3# context.append(preprocess_sentence(long_answer))\n",
        "                   \n",
        "            if problem == True : \n",
        "              print(\"Long answer problem in example_id:\",doc['example_id'])\n",
        "              print(\"Long answer:\",long_answer) \n",
        "              print(\"Posibilities:\", n_posibilities) \n",
        "              print(\"start_token:\",annotations['long_answer']['start_token'])\n",
        "              print(\"end_token:\",annotations['long_answer']['end_token'])  \n",
        "              if short_answer != UNKNOWN or annotations['long_answer']['start_token'] != annotations['long_answer']['end_token']:\n",
        "                print(\"Surprise! Short Answer present or Mismatch!\")\n",
        "                n_surprises+=1\n",
        "                #break\n",
        "                                \n",
        "        print()\n",
        "        print(n_short,\"short answers out of\",len(data), \"possible, rate is\",100*n_short/len(data),\"%\")\n",
        "        print(n_long,\"long answers out of\",len(data), \"possible, rate is\",100*n_long/len(data),\"%\")\n",
        "        print(\"there were :\", n_surprises,\" surprises!\")\n"
      ],
      "execution_count": 20,
      "outputs": [
        {
          "output_type": "stream",
          "text": [
            "\n",
            "\n",
            "1 Document Title:   The Walking Dead ( season 8 ) \n",
            "Question:  when is the last episode of season 8 of the walking dead\n",
            "Short Answer:  March 18 , 2018\n",
            "the long answer was found to be possibility:  18\n",
            "\n",
            "\n",
            "2 Document Title:   Persephone \n",
            "Question:  in greek mythology who was the goddess of spring growth\n",
            "Short Answer:  Persephone ( / pərˈsɛfəni / ; Greek : Περσεφόνη ) , also called Kore ( / ˈkɔːriː / ; `` the maiden '' )\n",
            "the long answer was found to be possibility:  4\n",
            "\n",
            "\n",
            "3 Document Title:   Colony ( Biology ) \n",
            "Question:  benefits of colonial life for single celled organisms\n",
            "Problem: no long answer present!\n",
            "Long answer problem in example_id: 5985355041383167183\n",
            "Long answer: \n",
            "Posibilities: 61\n",
            "start_token: -1\n",
            "end_token: -1\n",
            "\n",
            "\n",
            "4 Document Title:   The Man in the High Castle ( TV series ) \n",
            "Question:  how many season of the man in the high castle\n",
            "the long answer was found to be possibility:  1\n",
            "\n",
            "\n",
            "5 Document Title:   List of heads of state of Nigeria \n",
            "Question:  who was the first ministry head of state in nigeria\n",
            "Problem: no long answer present!\n",
            "Long answer problem in example_id: -1052334833502528495\n",
            "Long answer: \n",
            "Posibilities: 34\n",
            "start_token: -1\n",
            "end_token: -1\n",
            "\n",
            "\n",
            "6 Document Title:   List of Awards and Nominations received by Game of Thrones \n",
            "Question:  how many nominations does game of thrones have\n",
            "Problem: no long answer present!\n",
            "Long answer problem in example_id: -6252343352866892945\n",
            "Long answer: \n",
            "Posibilities: 34\n",
            "start_token: -1\n",
            "end_token: -1\n",
            "\n",
            "\n",
            "7 Document Title:   Judaism \n",
            "Question:  what is the name of the most important jewish text\n",
            "Short Answer:  the Shulchan Aruch\n",
            "the long answer was found to be possibility:  28\n",
            "\n",
            "\n",
            "8 Document Title:   Hanggang Makita Kang Muli \n",
            "Question:  until we meet again filipino soap episode 10\n",
            "Problem: no long answer present!\n",
            "Long answer problem in example_id: -779398336021950751\n",
            "Long answer: \n",
            "Posibilities: 153\n",
            "start_token: -1\n",
            "end_token: -1\n",
            "\n",
            "\n",
            "9 Document Title:   Football in Spain \n",
            "Question:  what is the name of spain's most famous soccer team\n",
            "Short Answer:  Real Madrid\n",
            "the long answer was found to be possibility:  3\n",
            "\n",
            "\n",
            "10 Document Title:   Robot - assisted surgery \n",
            "Question:  when was the first robot used in surgery\n",
            "Short Answer:  1983\n",
            "the long answer was found to be possibility:  40\n",
            "\n",
            "\n",
            "11 Document Title:   List of the Fast and the Furious characters \n",
            "Question:  who are the actors in fast and furious\n",
            "the long answer was found to be possibility:  4\n",
            "\n",
            "\n",
            "12 Document Title:   Tom Paris \n",
            "Question:  when does tom paris become a lieutenant again\n",
            "the long answer was found to be possibility:  10\n",
            "\n",
            "\n",
            "13 Document Title:   Roger Miller \n",
            "Question:  who sang the song i'm a nut\n",
            "Problem: no long answer present!\n",
            "Long answer problem in example_id: -105753652159334321\n",
            "Long answer: \n",
            "Posibilities: 22\n",
            "start_token: -1\n",
            "end_token: -1\n",
            "\n",
            "\n",
            "14 Document Title:   I Love It ( Icona Pop song ) \n",
            "Question:  who sings the song i don't care i love it\n",
            "Short Answer:  Icona Pop and Charli XCX\n",
            "the long answer was found to be possibility:  9\n",
            "\n",
            "\n",
            "15 Document Title:   Freedom of the city \n",
            "Question:  what does the key to the city entitle you to\n",
            "the long answer was found to be possibility:  19\n",
            "\n",
            "\n",
            "16 Document Title:   The Fast and the Furious \n",
            "Question:  when did fast and furious 5 come out\n",
            "the long answer was found to be possibility:  2\n",
            "\n",
            "\n",
            "17 Document Title:   Skywalker family \n",
            "Question:  who are uncle owen and aunt beru related to\n",
            "Short Answer:  Shmi\n",
            "the long answer was found to be possibility:  4\n",
            "\n",
            "\n",
            "18 Document Title:   Clean Air Act ( United States ) \n",
            "Question:  when the clear air act was revised in 1990 it gave states\n",
            "Problem: no long answer present!\n",
            "Long answer problem in example_id: -7477781224997903414\n",
            "Long answer: \n",
            "Posibilities: 24\n",
            "start_token: -1\n",
            "end_token: -1\n",
            "\n",
            "\n",
            "19 Document Title:   Wikipedia : sauce for the goose is ( not ) sauce for the gander \n",
            "Question:  what is sauce for the goose is sauce for the gander examples\n",
            "Problem: no long answer present!\n",
            "Long answer problem in example_id: 1030650368316108760\n",
            "Long answer: \n",
            "Posibilities: 24\n",
            "start_token: -1\n",
            "end_token: -1\n",
            "\n",
            "\n",
            "20 Document Title:   Zimbabwe \n",
            "Question:  where is zimbabwe located in the world map\n",
            "Short Answer:  in southern Africa , between the Zambezi and Limpopo Rivers , bordered by South Africa , Botswana , Zambia and Mozambique\n",
            "the long answer was found to be possibility:  3\n",
            "\n",
            "\n",
            "21 Document Title:   Hectare \n",
            "Question:  100 acres is equal to how many hectares\n",
            "Short Answer:  1 square hectometre ( hm )\n",
            "the long answer was found to be possibility:  2\n",
            "\n",
            "\n",
            "22 Document Title:   Grand Slam ( Tennis ) \n",
            "Question:  who has won a calendar grand slam in tennis\n",
            "the long answer was found to be possibility:  15\n",
            "\n",
            "\n",
            "23 Document Title:   Donovan Mitchell \n",
            "Question:  where was donovan mitchell picked in the draft\n",
            "Short Answer:  13th\n",
            "the long answer was found to be possibility:  6\n",
            "\n",
            "\n",
            "24 Document Title:   Category : drink companies of the Philippines \n",
            "Question:  list of food and beverage companies in the philippines\n",
            "Problem: no long answer present!\n",
            "Long answer problem in example_id: 4560268738134985863\n",
            "Long answer: \n",
            "Posibilities: 12\n",
            "start_token: -1\n",
            "end_token: -1\n",
            "\n",
            "\n",
            "25 Document Title:   British Airways destinations \n",
            "Question:  where does british airways fly to in south america\n",
            "the long answer was found to be possibility:  5\n",
            "\n",
            "10 short answers out of 25 possible, rate is 40.0 %\n",
            "17 long answers out of 25 possible, rate is 68.0 %\n",
            "there were : 0  surprises!\n"
          ],
          "name": "stdout"
        }
      ]
    }
  ]
}